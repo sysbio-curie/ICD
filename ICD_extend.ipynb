{
 "cells": [
  {
   "cell_type": "markdown",
   "metadata": {},
   "source": [
    "# Extended model of ICD"
   ]
  },
  {
   "cell_type": "markdown",
   "metadata": {},
   "source": [
    "This notebook simulates the extended model of immunogenic cell death (ICD) using UPMaBoSS approach"
   ]
  },
  {
   "cell_type": "code",
   "execution_count": 1,
   "metadata": {},
   "outputs": [],
   "source": [
    "import maboss\n",
    "import matplotlib.pyplot as plt\n",
    "import time\n",
    "import seaborn as sns\n",
    "plt.rcParams.update({'font.size': 16})"
   ]
  },
  {
   "cell_type": "markdown",
   "metadata": {},
   "source": [
    "### Model simulations"
   ]
  },
  {
   "cell_type": "markdown",
   "metadata": {},
   "source": [
    "The model is simulated with UPMaBoSS"
   ]
  },
  {
   "cell_type": "code",
   "execution_count": 2,
   "metadata": {},
   "outputs": [],
   "source": [
    "sns.set_style(\"white\")\n",
    "colormap_scale = sns.light_palette(\"black\", as_cmap=True)\n",
    "colormap_ratios = sns.diverging_palette(240, 0, center='light', as_cmap=True)\n",
    "def save_figure(figure, title):\n",
    "    #figure.savefig(\"%s.png\" % title, bbox_inches=\"tight\")\n",
    "    figure.savefig(\"%s.pdf\" % title, bbox_inches=\"tight\")"
   ]
  },
  {
   "cell_type": "code",
   "execution_count": 3,
   "metadata": {},
   "outputs": [],
   "source": [
    "bnd = 'ICD_extend.bnd'\n",
    "cfg = 'ICD_extend.cfg'\n",
    "upp = 'ICD_extend.upp'"
   ]
  },
  {
   "cell_type": "code",
   "execution_count": 4,
   "metadata": {},
   "outputs": [
    {
     "name": "stdout",
     "output_type": "stream",
     "text": [
      "$nb_mutable = 0;\n",
      "$rate_ATP_i_2 = 1/6;\n",
      "$rate_ATP_i_7 = 1/6;\n",
      "$rate_CALR_i = 1/4;\n",
      "$rate_HMGB1_i = 1/6;\n",
      "$rate_ANXA1_i = 1/4;\n",
      "$rate_IFN1_i = 1/6;\n",
      "$rate_CXCL10_i = 1/6;\n",
      "$rate_CD80_i = 1/6;\n",
      "$rate_MHC_II_i = 1/6;\n",
      "$rate_IL1B_i = 1/6;\n",
      "$rate_IL2_i = 1/6;\n",
      "$rate_IL4_i = 1/6;\n",
      "$rate_IL6_i = 1/6;\n",
      "$rate_IL12_i = 1/6;\n",
      "$rate_IL17_i = 1/6;\n",
      "$rate_IFNg_i = 1/6;\n",
      "$rate_TGFb_i = 1/6;\n",
      "$rate_MHC_I_i = 1/6;\n",
      "$rate_perforin = 0.0;\n",
      "$pop_Tumor = 0.0;\n",
      "$clonal_exp_rate = 0.05;\n",
      "$growth_tumor = 0.00001;\n",
      "$ChemoEffect = 0.00002;\n",
      "$PerforinDeath = 1/240;\n",
      "$PerforinRecycled = 6;\n",
      "$degChemo = 1/(24*3);\n",
      "$effectChemo = 1;\n",
      "$u_aDC = 50;\n",
      "$u_Th1 = 50;\n",
      "$u_Th2 = 50;\n",
      "$u_Th17 = 50;\n",
      "$u_Treg = 50;\n",
      "$u_preCTL = 50;\n",
      "$u_CTL = 5/12;\n",
      "$u_CD28 = 0.0;\n",
      "$u_CXCR3 = 0.0;\n",
      "$u_FPR1 = 0.0;\n",
      "$u_IFN1_rec = 0.0;\n",
      "$u_IFNg_rec = 0.0;\n",
      "$d_IFNg_rec = 50;\n",
      "$u_IL12_rec = 0.0;\n",
      "$d_IL12_rec = 50;\n",
      "$u_IL17_rec = 0.0;\n",
      "$d_IL17_rec = 50;\n",
      "$u_IL1B_rec = 0.0;\n",
      "$u_IL2_rec = 0.0;\n",
      "$u_IL4_rec = 0.0;\n",
      "$d_IL4_rec = 50;\n",
      "$u_IL6_rec = 0.0;\n",
      "$d_IL6_rec = 50;\n",
      "$u_LRP1 = 0.0;\n",
      "$u_P2X7R = 0.0;\n",
      "$u_P2Y2R = 0.0;\n",
      "$u_TCR_I = 0.0;\n",
      "$u_TCR_II = 0.0;\n",
      "$u_TGFb_rec = 0.0;\n",
      "$d_TGFb_rec = 50;\n",
      "$u_TLR4 = 0.0;\n",
      "$u_ANXA1_o = 1/6;\n",
      "$d_ANXA1_o = 50;\n",
      "$u_ATP_o = 1/6;\n",
      "$d_ATP_o = 50;\n",
      "$u_CALR_o = 1/6;\n",
      "$d_CALR_o = 50;\n",
      "$u_HMGB1_o = 1/6;\n",
      "$d_HMGB1_o = 50;\n",
      "$u_IFN1_o = 1/6;\n",
      "$d_IFN1_o = 50;\n",
      "$u_CD80_o = 1/6;\n",
      "$d_CD80_o = 50;\n",
      "$u_CXCL10_o = 1/6;\n",
      "$d_CXCL10_o = 50;\n",
      "$u_MHC_I_o = 1/6;\n",
      "$d_MHC_I_o = 50;\n",
      "$u_MHC_II_o = 1/6;\n",
      "$d_MHC_II_o = 50;\n",
      "$u_IL1B_o = 1/6;\n",
      "$d_IL1B_o = 50;\n",
      "$u_IL2_o = 1/6;\n",
      "$d_IL2_o = 50;\n",
      "$u_IL4_o = 1/6;\n",
      "$d_IL4_o = 50;\n",
      "$u_IL6_o = 1/6;\n",
      "$d_IL6_o = 50;\n",
      "$u_IL12_o = 1/6;\n",
      "$d_IL12_o = 50;\n",
      "$u_IL17_o = 1/6;\n",
      "$d_IL17_o = 50;\n",
      "$u_IFNg_o = 1/6;\n",
      "$d_IFNg_o = 50;\n",
      "$u_TGFb_o = 1/6;\n",
      "$d_TGFb_o = 50;\n",
      "$u_Perforin_o = 1/6;\n",
      "$u_cd4_Act = 50;\n",
      "$aggressivity = 1.0;\n",
      "$InitDC = 0.1;\n",
      "$InitCD4 = 0.05;\n",
      "$InitCD8 = 0.05;\n",
      "DyingTumor.istate = FALSE;\n",
      "aDC.istate = FALSE;\n",
      "cd4_Act.istate = FALSE;\n",
      "P2Y2R.istate = FALSE;\n",
      "P2X7R.istate = FALSE;\n",
      "FPR1.istate = FALSE;\n",
      "LRP1.istate = FALSE;\n",
      "TLR4.istate = FALSE;\n",
      "IFN1_rec.istate = FALSE;\n",
      "IL1B_rec.istate = FALSE;\n",
      "IL2_rec.istate = FALSE;\n",
      "IL4_rec.istate = FALSE;\n",
      "IL6_rec.istate = FALSE;\n",
      "IL12_rec.istate = FALSE;\n",
      "IFNg_rec.istate = FALSE;\n",
      "IL17_rec.istate = FALSE;\n",
      "TGFb_rec.istate = FALSE;\n",
      "CXCR3.istate = FALSE;\n",
      "CD28.istate = FALSE;\n",
      "TCR_I.istate = FALSE;\n",
      "TCR_II.istate = FALSE;\n",
      "Th1.istate = FALSE;\n",
      "Th2.istate = FALSE;\n",
      "Th17.istate = FALSE;\n",
      "Treg.istate = FALSE;\n",
      "CALR_o.istate = FALSE;\n",
      "ATP_o.istate = FALSE;\n",
      "ANXA1_o.istate = FALSE;\n",
      "HMGB1_o.istate = FALSE;\n",
      "CXCL10_o.istate = FALSE;\n",
      "CD80_o.istate = FALSE;\n",
      "MHC_I_o.istate = FALSE;\n",
      "MHC_II_o.istate = FALSE;\n",
      "\n",
      "IL2_o.istate = FALSE;\n",
      "IL4_o.istate = FALSE;\n",
      "IL6_o.istate = FALSE;\n",
      "IL12_o.istate = FALSE;\n",
      "IL17_o.istate = FALSE;\n",
      "IFNg_o.istate = FALSE;\n",
      "TGFb_o.istate = FALSE;\n",
      "Perforin_o.istate = FALSE;\n",
      "preCTL.istate = FALSE;\n",
      "CTL.istate = FALSE;\n",
      "IFN1_o.istate = FALSE;\n",
      "Division.istate = FALSE;\n",
      "Death.istate = FALSE;\n",
      "[Tumor, ChemoT, DC, cd4, cd8].istate = $InitCD8 [0, 0, 0, 0, 1] , $InitCD4 [0, 0, 0, 1, 0] , $InitDC [0, 0, 1, 0, 0] , (1-$InitDC-$InitCD4-$InitCD8) [1, 1, 0, 0, 0];\n",
      "\n",
      "time_tick = 0.02;\n",
      "max_time = 1.0;\n",
      "sample_count = 130000.0;\n",
      "discrete_time = 0.0;\n",
      "use_physrandgen = 0.0;\n",
      "seed_pseudorandom = 100.0;\n",
      "display_traj = 0.0;\n",
      "statdist_traj_count = 0.0;\n",
      "statdist_cluster_threshold = 1.0;\n",
      "thread_count = 4.0;\n",
      "statdist_similarity_cache_max_size = 20000.0;\n",
      "Tumor.is_internal = False;\n",
      "ChemoT.is_internal = False;\n",
      "DyingTumor.is_internal = False;\n",
      "DC.is_internal = False;\n",
      "cd4.is_internal = False;\n",
      "cd8.is_internal = False;\n",
      "aDC.is_internal = False;\n",
      "cd4_Act.is_internal = False;\n",
      "P2Y2R.is_internal = False;\n",
      "P2X7R.is_internal = False;\n",
      "FPR1.is_internal = False;\n",
      "LRP1.is_internal = False;\n",
      "TLR4.is_internal = False;\n",
      "IFN1_rec.is_internal = False;\n",
      "IL1B_rec.is_internal = False;\n",
      "IL2_rec.is_internal = False;\n",
      "IL4_rec.is_internal = False;\n",
      "IL6_rec.is_internal = False;\n",
      "IL12_rec.is_internal = False;\n",
      "IFNg_rec.is_internal = False;\n",
      "IL17_rec.is_internal = False;\n",
      "TGFb_rec.is_internal = False;\n",
      "CXCR3.is_internal = False;\n",
      "CD28.is_internal = False;\n",
      "TCR_I.is_internal = False;\n",
      "TCR_II.is_internal = False;\n",
      "Th1.is_internal = False;\n",
      "Th2.is_internal = False;\n",
      "Th17.is_internal = False;\n",
      "Treg.is_internal = False;\n",
      "CALR_o.is_internal = False;\n",
      "ATP_o.is_internal = False;\n",
      "ANXA1_o.is_internal = False;\n",
      "HMGB1_o.is_internal = False;\n",
      "CXCL10_o.is_internal = False;\n",
      "CD80_o.is_internal = False;\n",
      "MHC_I_o.is_internal = False;\n",
      "MHC_II_o.is_internal = False;\n",
      "IL1B_o.is_internal = False;\n",
      "IL2_o.is_internal = False;\n",
      "IL4_o.is_internal = False;\n",
      "IL6_o.is_internal = False;\n",
      "IL12_o.is_internal = False;\n",
      "IL17_o.is_internal = False;\n",
      "IFNg_o.is_internal = False;\n",
      "TGFb_o.is_internal = False;\n",
      "Perforin_o.is_internal = False;\n",
      "preCTL.is_internal = False;\n",
      "CTL.is_internal = False;\n",
      "IFN1_o.is_internal = False;\n",
      "Division.is_internal = False;\n",
      "Death.is_internal = False;\n",
      "\n"
     ]
    }
   ],
   "source": [
    "sim = maboss.load(bnd,cfg)\n",
    "sim.print_cfg()"
   ]
  },
  {
   "cell_type": "code",
   "execution_count": 5,
   "metadata": {},
   "outputs": [],
   "source": [
    "WT = maboss.UpdatePopulation(sim,upp)"
   ]
  },
  {
   "cell_type": "code",
   "execution_count": 6,
   "metadata": {},
   "outputs": [
    {
     "name": "stdout",
     "output_type": "stream",
     "text": [
      "exec. time:  8.59669554233551  mins\n"
     ]
    }
   ],
   "source": [
    "start = time.time()\n",
    "WT_res = WT.run()\n",
    "stop = time.time()\n",
    "duration = (stop-start)/60\n",
    "print(\"exec. time: \",duration,\" mins\")"
   ]
  },
  {
   "cell_type": "markdown",
   "metadata": {},
   "source": [
    "The results are plotted as a function of time"
   ]
  },
  {
   "cell_type": "code",
   "execution_count": 7,
   "metadata": {},
   "outputs": [],
   "source": [
    "nodes=('Tumor','DC','aDC','cd4','cd8','Th1','Th2','Th17','Treg','preCTL','CTL','CALR_o','HMGB1_o','Perforin_o')"
   ]
  },
  {
   "cell_type": "code",
   "execution_count": 8,
   "metadata": {},
   "outputs": [],
   "source": [
    "WT_table = WT_res.get_nodes_stepwise_probability_distribution(nodes)"
   ]
  },
  {
   "cell_type": "markdown",
   "metadata": {},
   "source": [
    "The first events of ICD include release of CALR and activation of dendritic cells"
   ]
  },
  {
   "cell_type": "code",
   "execution_count": 9,
   "metadata": {},
   "outputs": [
    {
     "data": {
      "image/png": "[encoded data removed]",
      "text/plain": [
       "<Figure size 432x288 with 1 Axes>"
      ]
     },
     "metadata": {},
     "output_type": "display_data"
    }
   ],
   "source": [
    "adc = plt.figure()\n",
    "plt.plot(WT_table['PopRatio']*WT_table['Tumor'],'-g',label=\"Tumor\")\n",
    "plt.plot(WT_table['PopRatio']*WT_table['CALR_o'],'-',label=\"CALR\")\n",
    "plt.plot(WT_table['PopRatio']*WT_table['aDC'],'-r',label=\"aDC\")\n",
    "plt.ylabel(\"Relative population size\")\n",
    "plt.xlabel(\"Time (hours)\")\n",
    "plt.legend()\n",
    "save_figure(adc,\"aDC_Tumor_CALR\")"
   ]
  },
  {
   "cell_type": "markdown",
   "metadata": {},
   "source": [
    "The different T cells are plotted as a function of time"
   ]
  },
  {
   "cell_type": "code",
   "execution_count": 10,
   "metadata": {},
   "outputs": [
    {
     "data": {
      "image/png": "[encoded data removed]",
      "text/plain": [
       "<Figure size 432x288 with 1 Axes>"
      ]
     },
     "metadata": {},
     "output_type": "display_data"
    }
   ],
   "source": [
    "Tcells = plt.figure()\n",
    "plt.plot(WT_table['PopRatio']*WT_table['Th1'],label=\"Th1\")\n",
    "plt.plot(WT_table['PopRatio']*WT_table['Th2'],label=\"Th2\")\n",
    "plt.plot(WT_table['PopRatio']*WT_table['Th17'],label=\"Th17\")\n",
    "plt.plot(WT_table['PopRatio']*WT_table['Treg'],label=\"Treg\")\n",
    "plt.ylabel(\"Relative population size\")\n",
    "plt.xlabel(\"Time (hours)\")\n",
    "plt.legend()\n",
    "save_figure(Tcells,\"Tcells\")"
   ]
  },
  {
   "cell_type": "markdown",
   "metadata": {},
   "source": [
    "The cytotoxic T cells are plotted as a function of time and illustrate the late events of ICD"
   ]
  },
  {
   "cell_type": "code",
   "execution_count": 11,
   "metadata": {},
   "outputs": [
    {
     "data": {
      "image/png": "[encoded data removed]",
      "text/plain": [
       "<Figure size 432x288 with 1 Axes>"
      ]
     },
     "metadata": {},
     "output_type": "display_data"
    }
   ],
   "source": [
    "NTcells = plt.figure()\n",
    "plt.plot(WT_table['PopRatio']*WT_table['preCTL'],label=\"preCTL\")\n",
    "plt.plot(WT_table['PopRatio']*WT_table['CTL'],label=\"CTL\")\n",
    "plt.plot(WT_table['PopRatio']*WT_table['Perforin_o'],label=\"Perforin\")\n",
    "plt.ylabel(\"Relative population size\")\n",
    "plt.xlabel(\"Time\")\n",
    "plt.legend()\n",
    "save_figure(NTcells,\"other_Tcells\")"
   ]
  },
  {
   "cell_type": "markdown",
   "metadata": {},
   "source": [
    "### Sensitivity analyses on selected model parameters"
   ]
  },
  {
   "cell_type": "markdown",
   "metadata": {},
   "source": [
    "After performing a systematic sensitivity analysis on the model parameters, we selected some that show interesting results such as the timing of ICD on tumor cells.\n",
    "\n",
    "We first run the different simulations and then visualize the results below on a single figure."
   ]
  },
  {
   "cell_type": "markdown",
   "metadata": {},
   "source": [
    " __Higher initial DC population__  (i.e. $\\text{initial pop}\\cdot 1.5$)"
   ]
  },
  {
   "cell_type": "code",
   "execution_count": 12,
   "metadata": {},
   "outputs": [],
   "source": [
    "HighDC_sim = maboss.load(bnd,cfg)\n",
    "HighDC_sim.param['$InitDC'] = 0.15\n",
    "HighDC = maboss.UpdatePopulation(HighDC_sim,upp)"
   ]
  },
  {
   "cell_type": "code",
   "execution_count": 13,
   "metadata": {},
   "outputs": [
    {
     "name": "stdout",
     "output_type": "stream",
     "text": [
      "exec. time:  8.659872754414875  mins\n"
     ]
    }
   ],
   "source": [
    "start = time.time()\n",
    "HighDC_res = HighDC.run()\n",
    "stop = time.time()\n",
    "duration = (stop-start)/60\n",
    "print(\"exec. time: \",duration,\" mins\")"
   ]
  },
  {
   "cell_type": "code",
   "execution_count": 14,
   "metadata": {},
   "outputs": [],
   "source": [
    "HighDC_table = HighDC_res.get_nodes_stepwise_probability_distribution(nodes)"
   ]
  },
  {
   "cell_type": "markdown",
   "metadata": {},
   "source": [
    "__Low DC population__ (i.e. $\\text{initial pop}/ 1.5$)"
   ]
  },
  {
   "cell_type": "code",
   "execution_count": 15,
   "metadata": {},
   "outputs": [],
   "source": [
    "LowDC_sim = maboss.load(bnd,cfg)\n",
    "LowDC_sim.param['$InitDC'] = 0.067\n",
    "LowDC = maboss.UpdatePopulation(LowDC_sim,upp)"
   ]
  },
  {
   "cell_type": "code",
   "execution_count": 16,
   "metadata": {},
   "outputs": [
    {
     "name": "stdout",
     "output_type": "stream",
     "text": [
      "exec. time:  8.645944138367971  mins\n"
     ]
    }
   ],
   "source": [
    "start = time.time()\n",
    "LowDC_res = LowDC.run()\n",
    "stop = time.time()\n",
    "duration = (stop-start)/60\n",
    "print(\"exec. time: \",duration,\" mins\")"
   ]
  },
  {
   "cell_type": "code",
   "execution_count": 17,
   "metadata": {},
   "outputs": [],
   "source": [
    "LowDC_table = LowDC_res.get_nodes_stepwise_probability_distribution(nodes)"
   ]
  },
  {
   "cell_type": "markdown",
   "metadata": {},
   "source": [
    "__Faster Clonal expansion__ (i.e. $\\text{initial pop}\\cdot 1.5$)"
   ]
  },
  {
   "cell_type": "code",
   "execution_count": 18,
   "metadata": {},
   "outputs": [],
   "source": [
    "FastClonal_sim = maboss.load(bnd,cfg)\n",
    "FastClonal_sim.param['$clonal_exp_rate'] = 0.075\n",
    "FastClonal = maboss.UpdatePopulation(FastClonal_sim,upp)"
   ]
  },
  {
   "cell_type": "code",
   "execution_count": 19,
   "metadata": {},
   "outputs": [
    {
     "name": "stdout",
     "output_type": "stream",
     "text": [
      "exec. time:  8.65752683877945  mins\n"
     ]
    }
   ],
   "source": [
    "start = time.time()\n",
    "FastClonal_res = FastClonal.run()\n",
    "stop = time.time()\n",
    "duration = (stop-start)/60\n",
    "print(\"exec. time: \",duration,\" mins\")"
   ]
  },
  {
   "cell_type": "code",
   "execution_count": 20,
   "metadata": {},
   "outputs": [],
   "source": [
    "FastClonal_table = FastClonal_res.get_nodes_stepwise_probability_distribution(nodes)"
   ]
  },
  {
   "cell_type": "markdown",
   "metadata": {},
   "source": [
    "__Slower Clonal expansion__ (i.e. $\\text{initial pop} / 1.5$)"
   ]
  },
  {
   "cell_type": "code",
   "execution_count": 21,
   "metadata": {},
   "outputs": [],
   "source": [
    "SlowClonal_sim = maboss.load(bnd,cfg)\n",
    "SlowClonal_sim.param['$clonal_exp_rate'] = 0.033\n",
    "SlowClonal = maboss.UpdatePopulation(SlowClonal_sim,upp)"
   ]
  },
  {
   "cell_type": "code",
   "execution_count": 22,
   "metadata": {},
   "outputs": [
    {
     "name": "stdout",
     "output_type": "stream",
     "text": [
      "exec. time:  8.454101610183717  mins\n"
     ]
    }
   ],
   "source": [
    "start = time.time()\n",
    "SlowClonal_res = SlowClonal.run()\n",
    "stop = time.time()\n",
    "duration = (stop-start)/60\n",
    "print(\"exec. time: \",duration,\" mins\")"
   ]
  },
  {
   "cell_type": "code",
   "execution_count": 23,
   "metadata": {},
   "outputs": [],
   "source": [
    "SlowClonal_table = SlowClonal_res.get_nodes_stepwise_probability_distribution(nodes)"
   ]
  },
  {
   "cell_type": "code",
   "execution_count": 24,
   "metadata": {},
   "outputs": [
    {
     "data": {
      "image/png": "[encoded data removed]",
      "text/plain": [
       "<Figure size 432x288 with 1 Axes>"
      ]
     },
     "metadata": {},
     "output_type": "display_data"
    }
   ],
   "source": [
    "mutants_vs_WT = plt.figure()\n",
    "plt.plot(range(0,601)[1:600:3],WT_table['PopRatio'][1:600:3]*WT_table['Tumor'][1:600:3],\n",
    "         \"sg\",label=\"WT\",markersize=4)\n",
    "plt.plot(range(0,601)[1:600:3],HighDC_table['PopRatio'][1:600:3]*HighDC_table['Tumor'][1:600:3],\n",
    "         \"^r\",label=\"High DC\",markersize=4)\n",
    "plt.plot(range(0,601)[1:600:3],FastClonal_table['PopRatio'][1:600:3]*FastClonal_table['Tumor'][1:600:3],\n",
    "         \"*r\",label=\"Fast Clonal Exp.\",markersize=4)\n",
    "plt.plot(range(0,601)[1:600:3],LowDC_table['PopRatio'][1:600:3]*LowDC_table['Tumor'][1:600:3],\n",
    "         \"^b\",label=\"Low DC\",markersize=4)\n",
    "plt.plot(range(0,601)[1:600:3],SlowClonal_table['PopRatio'][1:600:3]*SlowClonal_table['Tumor'][1:600:3],\n",
    "         \"*b\",label=\"Slow Clonal Exp.\",markersize=4)\n",
    "plt.ylabel(\"Relative population size\")\n",
    "plt.xlabel(\"Time (hours)\")\n",
    "plt.xlim(left=0, right=600)\n",
    "plt.legend()\n",
    "save_figure(mutants_vs_WT,\"mutants_vs_WT\")"
   ]
  },
  {
   "cell_type": "markdown",
   "metadata": {},
   "source": [
    "### Model modifications to mimic drug treatments"
   ]
  },
  {
   "cell_type": "markdown",
   "metadata": {},
   "source": [
    "We then tested the effect of some mutations on the population dynamics to mimic the potential effect of drug treatments that would first target CD28 then IL2. These two examples show extreme cell population response."
   ]
  },
  {
   "cell_type": "markdown",
   "metadata": {},
   "source": [
    "__CD28 mutant__"
   ]
  },
  {
   "cell_type": "code",
   "execution_count": 25,
   "metadata": {},
   "outputs": [],
   "source": [
    "CD28Down_sim = maboss.load(bnd,cfg)\n",
    "upp = 'ICD_extend_DownCD28.upp'\n",
    "CD28Down = maboss.UpdatePopulation(CD28Down_sim,upp)"
   ]
  },
  {
   "cell_type": "code",
   "execution_count": 26,
   "metadata": {},
   "outputs": [
    {
     "name": "stdout",
     "output_type": "stream",
     "text": [
      "exec. time:  7.586369562149048  mins\n"
     ]
    }
   ],
   "source": [
    "start = time.time()\n",
    "CD28Down_res = CD28Down.run()\n",
    "stop = time.time()\n",
    "duration = (stop-start)/60\n",
    "print(\"exec. time: \",duration,\" mins\")"
   ]
  },
  {
   "cell_type": "code",
   "execution_count": 27,
   "metadata": {},
   "outputs": [],
   "source": [
    "nodes=('Tumor','DC')"
   ]
  },
  {
   "cell_type": "code",
   "execution_count": 28,
   "metadata": {},
   "outputs": [],
   "source": [
    "CD28Down_table = CD28Down_res.get_nodes_stepwise_probability_distribution(nodes)"
   ]
  },
  {
   "cell_type": "code",
   "execution_count": 29,
   "metadata": {},
   "outputs": [],
   "source": [
    "IL2Up_sim = maboss.load(bnd,cfg)\n",
    "upp = 'ICD_extend_UpIL2_rec.upp'\n",
    "IL2Up = maboss.UpdatePopulation(IL2Up_sim,upp)"
   ]
  },
  {
   "cell_type": "code",
   "execution_count": 30,
   "metadata": {},
   "outputs": [
    {
     "name": "stdout",
     "output_type": "stream",
     "text": [
      "exec. time:  8.214225268363952  mins\n"
     ]
    }
   ],
   "source": [
    "start = time.time()\n",
    "IL2Up_res = IL2Up.run()\n",
    "stop = time.time()\n",
    "duration = (stop-start)/60\n",
    "print(\"exec. time: \",duration,\" mins\")"
   ]
  },
  {
   "cell_type": "code",
   "execution_count": 31,
   "metadata": {},
   "outputs": [],
   "source": [
    "nodes=('Tumor','DC')"
   ]
  },
  {
   "cell_type": "code",
   "execution_count": 32,
   "metadata": {},
   "outputs": [],
   "source": [
    "IL2Up_table = IL2Up_res.get_nodes_stepwise_probability_distribution(nodes)"
   ]
  },
  {
   "cell_type": "code",
   "execution_count": 146,
   "metadata": {},
   "outputs": [
    {
     "data": {
      "image/png": "[encoded data removed]",
      "text/plain": [
       "<Figure size 432x288 with 1 Axes>"
      ]
     },
     "metadata": {},
     "output_type": "display_data"
    }
   ],
   "source": [
    "model_modifications = plt.figure()\n",
    "plt.plot(range(0,601)[1:600:3],WT_table['PopRatio'][1:600:3]*WT_table['Tumor'][1:600:3],\n",
    "         \"sg\",label=\"WT\",markersize=4)\n",
    "plt.plot(range(0,601)[1:600:3],IL2Up_table['PopRatio'][1:600:3]*IL2Up_table['Tumor'][1:600:3],\n",
    "         \"^r\",label=\"IL2 treat\",markersize=4)\n",
    "plt.plot(range(0,601)[1:600:3],CD28Down_table['PopRatio'][1:600:3]*CD28Down_table['Tumor'][1:600:3],\n",
    "         \"*b\",label=\"CD28 mut\",markersize=4)\n",
    "plt.ylabel(\"Relative population size\")\n",
    "plt.xlabel(\"Time (hours)\")\n",
    "plt.xlim(left=0, right=600)\n",
    "plt.legend()\n",
    "save_figure(model_modifications,\"model_modification\")"
   ]
  },
  {
   "cell_type": "code",
   "execution_count": null,
   "metadata": {},
   "outputs": [],
   "source": []
  }
 ],
 "metadata": {
  "kernelspec": {
   "display_name": "Python 3",
   "language": "python",
   "name": "python3"
  },
  "language_info": {
   "codemirror_mode": {
    "name": "ipython",
    "version": 3
   },
   "file_extension": ".py",
   "mimetype": "text/x-python",
   "name": "python",
   "nbconvert_exporter": "python",
   "pygments_lexer": "ipython3",
   "version": "3.7.7"
  }
 },
 "nbformat": 4,
 "nbformat_minor": 4
}
